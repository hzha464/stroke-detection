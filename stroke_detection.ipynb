{
 "cells": [
  {
   "cell_type": "markdown",
   "id": "25ec9646-77fd-4502-9fe1-1a5e174a370f",
   "metadata": {},
   "source": [
    "#### Assignment2\n",
    "1. Name: Hongyang Zhang\n",
    "2. uid: 770510439\n",
    "3. title: Assignment2"
   ]
  },
  {
   "cell_type": "markdown",
   "id": "b692af24-dab9-44a1-872b-ccde73b356c1",
   "metadata": {},
   "source": [
    "## DataPreprocessing\n"
   ]
  },
  {
   "cell_type": "code",
   "execution_count": 1,
   "id": "ce51103b-6af5-49b3-a4ba-75fc6cee35f8",
   "metadata": {},
   "outputs": [],
   "source": [
    "import numpy as np\n",
    "import sklearn\n",
    "import matplotlib.pyplot as plt\n",
    "from pathlib import Path\n",
    "import pandas as pd\n",
    "import tarfile\n",
    "import urllib.request\n",
    "import keras_tuner as kt\n",
    "import tensorflow as tf"
   ]
  },
  {
   "cell_type": "code",
   "execution_count": 2,
   "id": "ef36b761-5606-4a12-9024-118520ae7f69",
   "metadata": {},
   "outputs": [
    {
     "data": {
      "text/html": [
       "<div>\n",
       "<style scoped>\n",
       "    .dataframe tbody tr th:only-of-type {\n",
       "        vertical-align: middle;\n",
       "    }\n",
       "\n",
       "    .dataframe tbody tr th {\n",
       "        vertical-align: top;\n",
       "    }\n",
       "\n",
       "    .dataframe thead th {\n",
       "        text-align: right;\n",
       "    }\n",
       "</style>\n",
       "<table border=\"1\" class=\"dataframe\">\n",
       "  <thead>\n",
       "    <tr style=\"text-align: right;\">\n",
       "      <th></th>\n",
       "      <th>Unnamed: 0</th>\n",
       "      <th>id</th>\n",
       "      <th>gender</th>\n",
       "      <th>age</th>\n",
       "      <th>hypertension</th>\n",
       "      <th>heart_disease</th>\n",
       "      <th>ever_married</th>\n",
       "      <th>work_type</th>\n",
       "      <th>Residence_type</th>\n",
       "      <th>avg_glucose_level</th>\n",
       "      <th>bmi</th>\n",
       "      <th>smoking_status</th>\n",
       "      <th>stroke</th>\n",
       "    </tr>\n",
       "  </thead>\n",
       "  <tbody>\n",
       "    <tr>\n",
       "      <th>0</th>\n",
       "      <td>0</td>\n",
       "      <td>9046</td>\n",
       "      <td>Male</td>\n",
       "      <td>67.0</td>\n",
       "      <td>0</td>\n",
       "      <td>1.0</td>\n",
       "      <td>Yes</td>\n",
       "      <td>Private</td>\n",
       "      <td>Urban</td>\n",
       "      <td>228.69</td>\n",
       "      <td>36.6</td>\n",
       "      <td>formerly smoked</td>\n",
       "      <td>1</td>\n",
       "    </tr>\n",
       "    <tr>\n",
       "      <th>1</th>\n",
       "      <td>1</td>\n",
       "      <td>51676</td>\n",
       "      <td>Female</td>\n",
       "      <td>61.0</td>\n",
       "      <td>0</td>\n",
       "      <td>0.0</td>\n",
       "      <td>Yes</td>\n",
       "      <td>Self-employed</td>\n",
       "      <td>Rural</td>\n",
       "      <td>202.21</td>\n",
       "      <td>NaN</td>\n",
       "      <td>never smoked</td>\n",
       "      <td>1</td>\n",
       "    </tr>\n",
       "    <tr>\n",
       "      <th>2</th>\n",
       "      <td>2</td>\n",
       "      <td>31112</td>\n",
       "      <td>Male</td>\n",
       "      <td>80.0</td>\n",
       "      <td>0</td>\n",
       "      <td>1.0</td>\n",
       "      <td>Yes</td>\n",
       "      <td>Private</td>\n",
       "      <td>Rural</td>\n",
       "      <td>105.92</td>\n",
       "      <td>32.5</td>\n",
       "      <td>never smoked</td>\n",
       "      <td>1</td>\n",
       "    </tr>\n",
       "    <tr>\n",
       "      <th>3</th>\n",
       "      <td>3</td>\n",
       "      <td>60182</td>\n",
       "      <td>Female</td>\n",
       "      <td>49.0</td>\n",
       "      <td>0</td>\n",
       "      <td>0.0</td>\n",
       "      <td>Yes</td>\n",
       "      <td>Private</td>\n",
       "      <td>Urban</td>\n",
       "      <td>171.23</td>\n",
       "      <td>34.4</td>\n",
       "      <td>smokes</td>\n",
       "      <td>1</td>\n",
       "    </tr>\n",
       "    <tr>\n",
       "      <th>4</th>\n",
       "      <td>4</td>\n",
       "      <td>1665</td>\n",
       "      <td>Female</td>\n",
       "      <td>79.0</td>\n",
       "      <td>1</td>\n",
       "      <td>0.0</td>\n",
       "      <td>Yes</td>\n",
       "      <td>Self-employed</td>\n",
       "      <td>Rural</td>\n",
       "      <td>174.12</td>\n",
       "      <td>24.0</td>\n",
       "      <td>never smoked</td>\n",
       "      <td>1</td>\n",
       "    </tr>\n",
       "  </tbody>\n",
       "</table>\n",
       "</div>"
      ],
      "text/plain": [
       "   Unnamed: 0     id  gender   age  hypertension  heart_disease ever_married  \\\n",
       "0           0   9046    Male  67.0             0            1.0          Yes   \n",
       "1           1  51676  Female  61.0             0            0.0          Yes   \n",
       "2           2  31112    Male  80.0             0            1.0          Yes   \n",
       "3           3  60182  Female  49.0             0            0.0          Yes   \n",
       "4           4   1665  Female  79.0             1            0.0          Yes   \n",
       "\n",
       "       work_type Residence_type  avg_glucose_level   bmi   smoking_status  \\\n",
       "0        Private          Urban             228.69  36.6  formerly smoked   \n",
       "1  Self-employed          Rural             202.21   NaN     never smoked   \n",
       "2        Private          Rural             105.92  32.5     never smoked   \n",
       "3        Private          Urban             171.23  34.4           smokes   \n",
       "4  Self-employed          Rural             174.12  24.0     never smoked   \n",
       "\n",
       "   stroke  \n",
       "0       1  \n",
       "1       1  \n",
       "2       1  \n",
       "3       1  \n",
       "4       1  "
      ]
     },
     "execution_count": 2,
     "metadata": {},
     "output_type": "execute_result"
    }
   ],
   "source": [
    "stroke_pd = pd.read_csv(r\"C:\\Users\\zhang\\Downloads\\healthcare-dataset-stroke-data-1.csv\")\n",
    "stroke_pd.head()"
   ]
  },
  {
   "cell_type": "code",
   "execution_count": 3,
   "id": "9f356f30-deda-4de6-b069-a60b2499a214",
   "metadata": {},
   "outputs": [
    {
     "data": {
      "text/plain": [
       "<Axes: xlabel='age_cat'>"
      ]
     },
     "execution_count": 3,
     "metadata": {},
     "output_type": "execute_result"
    },
    {
     "data": {
      "image/png": "[encoded data removed]",
      "text/plain": [
       "<Figure size 640x480 with 1 Axes>"
      ]
     },
     "metadata": {},
     "output_type": "display_data"
    }
   ],
   "source": [
    "stroke_pd[\"age_cat\"] = pd.cut(stroke_pd[\"age\"],\n",
    "                               bins=[0., 20, 40, 60, 80, np.inf],\n",
    "                               labels=[1, 2, 3, 4, 5])\n",
    "stroke_pd[\"age_cat\"].value_counts().sort_index().plot.bar(rot=0, grid=True)"
   ]
  },
  {
   "cell_type": "code",
   "execution_count": 4,
   "id": "6474e17c-abf1-4c10-b13f-e6b36a9c809d",
   "metadata": {},
   "outputs": [],
   "source": [
    "# corr_matrix = stroke_pd.corr(numeric_only=True) #Need to set numeric_only to True with Pandas 2.0\n",
    "# corr_matrix[\"stroke\"].sort_values(ascending=False)"
   ]
  },
  {
   "cell_type": "markdown",
   "id": "3b793bef-62fa-43c6-b3c3-6d9ad1f3de24",
   "metadata": {},
   "source": [
    "### set test set"
   ]
  },
  {
   "cell_type": "code",
   "execution_count": 5,
   "id": "d05100d7-b4b4-445c-8ef5-1aa7462d3017",
   "metadata": {},
   "outputs": [],
   "source": [
    "from sklearn.model_selection import train_test_split"
   ]
  },
  {
   "cell_type": "code",
   "execution_count": 6,
   "id": "c192837f-7c61-488f-8f12-78515c089b9f",
   "metadata": {},
   "outputs": [],
   "source": [
    "# stroke_pd_train_set.describe()\n"
   ]
  },
  {
   "cell_type": "code",
   "execution_count": 7,
   "id": "7b7d542a-26ac-4196-ba8a-afc15d3637d6",
   "metadata": {},
   "outputs": [],
   "source": [
    "# stroke_pd_val_set.describe()"
   ]
  },
  {
   "cell_type": "code",
   "execution_count": 8,
   "id": "4cbf49fd-84ae-4986-8aa9-1f8420fbe2c9",
   "metadata": {},
   "outputs": [],
   "source": [
    "X = stroke_pd.drop('stroke', axis=1)\n",
    "y = stroke_pd['stroke'].copy()"
   ]
  },
  {
   "cell_type": "code",
   "execution_count": 9,
   "id": "56c07b4f-e373-490c-ba71-4e22f68b9ac5",
   "metadata": {},
   "outputs": [],
   "source": [
    "from sklearn.model_selection import train_test_split\n",
    "\n",
    "X_train_total, X_test, y_train_total, y_test = train_test_split(\n",
    "    X, y, test_size=0.2, stratify=y, random_state=42)\n",
    "X_train, X_val, y_train, y_val = train_test_split(\n",
    "    X_train_total, y_train_total, test_size=0.25, stratify=y_train_total, random_state=42)\n"
   ]
  },
  {
   "cell_type": "code",
   "execution_count": null,
   "id": "ed68d765-371d-46b4-a53d-36ac1c293f91",
   "metadata": {},
   "outputs": [],
   "source": []
  },
  {
   "cell_type": "markdown",
   "id": "669b2e3d-ea70-4ff5-9be0-9f0129947b2b",
   "metadata": {},
   "source": [
    "#### remove outliers"
   ]
  },
  {
   "cell_type": "code",
   "execution_count": 10,
   "id": "ecd6120f-4b0e-40b3-b47a-fd97dfbcd81e",
   "metadata": {},
   "outputs": [],
   "source": [
    "# from sklearn.ensemble import IsolationForest\n",
    "# from sklearn.impute import SimpleImputer\n",
    "# imputer = SimpleImputer(strategy=\"median\")\n",
    "# stroke_pd_num = X_train.select_dtypes(include=[np.number])\n",
    "# imputer.fit(stroke_pd_num)\n",
    "# X = imputer.transform(stroke_pd_num)\n",
    "\n",
    "# isolation_forest = IsolationForest(random_state=42)\n",
    "# outlier_pred = isolation_forest.fit_predict(X)\n",
    "# outliers = X_train.iloc[outlier_pred == -1]\n",
    "\n",
    "# stroke_pd_no = X_train.iloc[outlier_pred == 1]\n",
    "# y_train_no_outlier = y_train.iloc[outlier_pred == 1]\n",
    "\n",
    "\n"
   ]
  },
  {
   "cell_type": "code",
   "execution_count": 11,
   "id": "ffd028ce-350b-4477-a672-f5a445651483",
   "metadata": {},
   "outputs": [
    {
     "name": "stdout",
     "output_type": "stream",
     "text": [
      "X_train shape: (3066, 13)\n",
      "Y_train shape: (3066,)\n",
      "xval shape: (1022, 13)\n",
      "yval shape: (1022,)\n"
     ]
    }
   ],
   "source": [
    "print(\"X_train shape:\", X_train.shape)  # Replace X_train with your actual input data variable\n",
    "print(\"Y_train shape:\", y_train.shape)\n",
    "print(\"xval shape:\", X_val.shape)  # Replace X_train with your actual input data variable\n",
    "print(\"yval shape:\", y_val.shape)\n"
   ]
  },
  {
   "cell_type": "markdown",
   "id": "aa578817-c49f-4787-9d8c-7906fb3c32ac",
   "metadata": {},
   "source": [
    "### Data pre-processing"
   ]
  },
  {
   "cell_type": "code",
   "execution_count": 12,
   "id": "2b180c83-6301-4154-94fa-597ba63ffc0d",
   "metadata": {},
   "outputs": [
    {
     "name": "stdout",
     "output_type": "stream",
     "text": [
      "['married__ever_married' 'log__avg_glucose_level' 'age__age'\n",
      " 'bol__hypertension' 'bol__heart_disease' 'cat__gender_Female'\n",
      " 'cat__gender_Male' 'cat__gender_Other' 'cat__ever_married_No'\n",
      " 'cat__ever_married_Yes' 'cat__work_type_Govt_job'\n",
      " 'cat__work_type_Never_worked' 'cat__work_type_Private'\n",
      " 'cat__work_type_Self-employed' 'cat__work_type_children'\n",
      " 'cat__Residence_type_Rural' 'cat__Residence_type_Urban'\n",
      " 'cat__smoking_status_Unknown' 'cat__smoking_status_formerly smoked'\n",
      " 'cat__smoking_status_never smoked' 'cat__smoking_status_smokes'\n",
      " 'remainder__Unnamed: 0' 'remainder__id' 'remainder__bmi'\n",
      " 'remainder__age_cat']\n"
     ]
    }
   ],
   "source": [
    "from sklearn.compose import ColumnTransformer\n",
    "from sklearn.pipeline import make_pipeline\n",
    "from sklearn.impute import SimpleImputer\n",
    "from sklearn.preprocessing import OneHotEncoder, StandardScaler\n",
    "from sklearn.preprocessing import FunctionTransformer\n",
    "from sklearn.compose import make_column_selector, make_column_transformer\n",
    "\n",
    "def ratio_name(function_transformer, feature_names_in):\n",
    "    return feature_names_in  # feature names out\n",
    "    \n",
    "categories = {\n",
    "    'gender': ['Female', 'Male', 'Other'],\n",
    "    'ever_married': ['No', 'Yes'],\n",
    "    'work_type': ['Govt_job', 'Never_worked', 'Private', 'Self-employed', 'children'],\n",
    "    'Residence_type': ['Rural', 'Urban'],\n",
    "    'smoking_status': ['Unknown', 'formerly smoked', 'never smoked', 'smokes']\n",
    "}\n",
    "encoder = OneHotEncoder(categories=[categories['gender'], categories['ever_married'], categories['work_type'],\n",
    "                                    categories['Residence_type'], categories['smoking_status']],\n",
    "                        handle_unknown='ignore')\n",
    "\n",
    "\n",
    "bool_transformer = FunctionTransformer(np.vectorize(lambda x: 1 if x == \"Yes\" else 0))\n",
    "\n",
    "bol_pip = make_pipeline(\n",
    "    FunctionTransformer(np.vectorize(lambda x: 1 if x == \"Yes\"  else 0), feature_names_out=ratio_name ),\n",
    ")\n",
    "\n",
    "log_pipeline = make_pipeline(\n",
    "    SimpleImputer(strategy=\"median\"),\n",
    "    FunctionTransformer(np.log, feature_names_out=\"one-to-one\"),\n",
    "    StandardScaler())\n",
    "\n",
    "\n",
    "cat_pipeline = make_pipeline(\n",
    "    SimpleImputer(strategy=\"most_frequent\"),\n",
    "    encoder)\n",
    "\n",
    "num_pipeline = make_pipeline(SimpleImputer(strategy=\"median\"), StandardScaler())\n",
    "bol_pip_num = make_pipeline(SimpleImputer(strategy=\"median\"))\n",
    "\n",
    "default_num_pipeline = make_pipeline(SimpleImputer(strategy=\"median\"),\n",
    "                                     StandardScaler())\n",
    "preprocessing = ColumnTransformer([\n",
    "        (\"married\", bol_pip, [\"ever_married\"]),\n",
    "        (\"log\", log_pipeline, [\"avg_glucose_level\"]),\n",
    "        (\"age\", default_num_pipeline, [\"age\"]),\n",
    "        (\"bol\", bol_pip_num, [\"hypertension\",\"heart_disease\"]),\n",
    "        (\"cat\",cat_pipeline,  make_column_selector(dtype_include=object)),\n",
    "    \n",
    "    ],\n",
    "        remainder=default_num_pipeline)\n",
    "X_process_val = preprocessing.fit_transform(X_val)\n",
    "print(preprocessing.get_feature_names_out())\n",
    "\n",
    "X_process_train = preprocessing.fit_transform(X_train)\n"
   ]
  },
  {
   "cell_type": "code",
   "execution_count": 13,
   "id": "220c8f18-7877-4eff-90a1-893e89e76a7d",
   "metadata": {},
   "outputs": [],
   "source": [
    "# print(\"X_train shape:\", X_process_train.shape)  # Replace X_train with your actual input data variable\n",
    "# print(\"Y_train shape:\", y_train.shape)\n",
    "# print(\"x_pretrain_val shape:\", X_process_val.shape)\n",
    "# print(\"Y_val\", y_val.shape)\n",
    "\n",
    "# print(len(preprocessing.get_feature_names_out()))\n"
   ]
  },
  {
   "cell_type": "code",
   "execution_count": 14,
   "id": "971c2f81-fe23-4d5e-a77d-04c22c38319c",
   "metadata": {},
   "outputs": [],
   "source": [
    "pre_stroke = pd.DataFrame(X_process_train, columns=preprocessing.get_feature_names_out())\n",
    "pre_stroke_val = pd.DataFrame(X_process_val, columns=preprocessing.get_feature_names_out())\n",
    "\n",
    "# pre_storke[\"stroke\"] = y_train_no_outlier\n",
    "# pre_storke.hist(bins=50, figsize=(12, 16))\n",
    "# plt.tight_layout()\n",
    "# plt.show()"
   ]
  },
  {
   "cell_type": "code",
   "execution_count": 15,
   "id": "3aa8e84d-6551-4cfa-8286-370c7906ad7c",
   "metadata": {},
   "outputs": [],
   "source": [
    "# corr_matrix = pre_storke.corr(numeric_only=True)\n",
    "# corr_matrix[\"stroke\"].sort_values(ascending=False)\n"
   ]
  },
  {
   "cell_type": "code",
   "execution_count": 16,
   "id": "747b366c-6a83-4af0-ae0f-937fc5b24dd4",
   "metadata": {},
   "outputs": [],
   "source": [
    "# print(\"X_train shape:\", pre_stroke.shape)  # Replace X_train with your actual input data variable\n",
    "# print(\"Y_train shape:\", y_train.shape)\n",
    "# print(\"x_pretrain_val shape:\", pre_stroke_val.shape)\n",
    "# print(\"y_pretrain_val shape:\", y_val.shape)\n"
   ]
  },
  {
   "cell_type": "code",
   "execution_count": 17,
   "id": "283c964a-2455-4254-ba9b-0ace8ede9bbc",
   "metadata": {},
   "outputs": [],
   "source": [
    "pre_stroke[\"stroke\"] = y_train\n",
    "# pre_storke.hist(bins=50, figsize=(12, 16))\n"
   ]
  },
  {
   "cell_type": "code",
   "execution_count": 18,
   "id": "9ad22139-8076-4a19-9ab2-4d64885694f4",
   "metadata": {},
   "outputs": [],
   "source": [
    "# pre_stroke.head()\n"
   ]
  },
  {
   "cell_type": "code",
   "execution_count": 19,
   "id": "2f056ea7-7806-478f-abd5-cd1e8d733b8f",
   "metadata": {},
   "outputs": [],
   "source": [
    "# print(pre_stroke.shape)"
   ]
  },
  {
   "cell_type": "code",
   "execution_count": 20,
   "id": "2039c519-4a33-4f10-b0e6-5ba40258dd42",
   "metadata": {},
   "outputs": [],
   "source": [
    "\n",
    "# corr_matrix = pre_stroke.corr(numeric_only=True) #Need to set numeric_only to True with Pandas 2.0\n",
    "# corr_matrix[\"stroke\"].sort_values(ascending=False)\n"
   ]
  },
  {
   "cell_type": "code",
   "execution_count": 21,
   "id": "611d145e-07bd-426a-bb1e-17367056c562",
   "metadata": {},
   "outputs": [],
   "source": [
    "def drop_unrelated(dataset):\n",
    "    columns_to_drop = [\n",
    "    \"age__age\",\n",
    "    \"remainder__bmi\",\n",
    "    \"cat__Residence_type_Rural\",\n",
    "    \"cat__ever_married_No\",\n",
    "    \"married__ever_married\",\n",
    "    \"cat__ever_married_Yes\",\n",
    "    \"cat__work_type_Self-employed\"\n",
    "]\n",
    "    after = dataset.drop(columns_to_drop, axis=1)\n",
    "    return after\n",
    "\n",
    "pre_stroke = drop_unrelated(pre_stroke)\n",
    "pre_stroke_val = drop_unrelated(pre_stroke_val)"
   ]
  },
  {
   "cell_type": "code",
   "execution_count": 22,
   "id": "f755c6e9-3617-4ca1-8e7d-c884a1e2f0aa",
   "metadata": {},
   "outputs": [],
   "source": [
    "pre_stroke = pre_stroke.drop(\"stroke\", axis=1)"
   ]
  },
  {
   "cell_type": "code",
   "execution_count": 23,
   "id": "ddf0baa9-302b-4208-afc6-0c74a0b7acaf",
   "metadata": {},
   "outputs": [
    {
     "name": "stdout",
     "output_type": "stream",
     "text": [
      "X_train shape: (3066, 18)\n",
      "Y_train shape: (3066,)\n",
      "x_pretrain_val shape: (1022, 18)\n",
      "y_pretrain_val shape: (1022,)\n"
     ]
    }
   ],
   "source": [
    "print(\"X_train shape:\", pre_stroke.shape)  # Replace X_train with your actual input data variable\n",
    "print(\"Y_train shape:\", y_train.shape)\n",
    "print(\"x_pretrain_val shape:\", pre_stroke_val.shape)\n",
    "print(\"y_pretrain_val shape:\", y_val.shape)"
   ]
  },
  {
   "cell_type": "markdown",
   "id": "12c8b4e4-8ca3-419e-a81f-025afb0f726b",
   "metadata": {},
   "source": [
    "## Dynamic tuning\n",
    "1. give a range of hidden, layer, neuron, learning rate and optimizer.\n",
    "2. using step 1 to find the best configuration\n",
    "3. the reason using sparse_categorical_crossentropy is because we want to classify a person has stroke or not."
   ]
  },
  {
   "cell_type": "code",
   "execution_count": 24,
   "id": "ddbde743-a311-482a-b431-30613f3d20e0",
   "metadata": {},
   "outputs": [],
   "source": [
    "def build_model(hp):\n",
    "    n_hidden = hp.Int(\"n_hidden\", min_value=0, max_value=8, default=2)\n",
    "    n_neurons = hp.Int(\"n_neurons\", min_value=16, max_value=256)\n",
    "    learning_rate = hp.Float(\"learning_rate\", min_value=1e-4, max_value=1e-2,\n",
    "                             sampling=\"log\")\n",
    "    optimizer = hp.Choice(\"optimizer\", values=[\"sgd\", \"adam\"])\n",
    "    if optimizer == \"sgd\":\n",
    "        optimizer = tf.keras.optimizers.SGD(learning_rate=learning_rate)\n",
    "    else:\n",
    "        optimizer = tf.keras.optimizers.Adam(learning_rate=learning_rate)\n",
    "\n",
    "    model = tf.keras.Sequential()\n",
    "    model.add(tf.keras.layers.Flatten())\n",
    "    for _ in range(n_hidden):\n",
    "        model.add(tf.keras.layers.Dense(n_neurons, activation=\"relu\"))\n",
    "    model.add(tf.keras.layers.Dense(10, activation=\"softmax\"))\n",
    "    model.compile(loss=\"sparse_categorical_crossentropy\", optimizer=optimizer,\n",
    "                  metrics=[\"accuracy\"])\n",
    "    return model"
   ]
  },
  {
   "cell_type": "code",
   "execution_count": 25,
   "id": "ee6eb097-0948-49c2-890a-9534e83bc96a",
   "metadata": {},
   "outputs": [
    {
     "name": "stdout",
     "output_type": "stream",
     "text": [
      "Reloading Tuner from a2_minst\\a2\\tuner0.json\n"
     ]
    }
   ],
   "source": [
    "random_search_tuner = kt.RandomSearch(\n",
    "    build_model, objective=\"val_accuracy\", max_trials=10, overwrite=False,\n",
    "    directory=\"a2_minst\", project_name=\"a2\", seed=42)\n",
    "\n"
   ]
  },
  {
   "cell_type": "code",
   "execution_count": 26,
   "id": "78de0c5a-59b6-4476-932f-dc1b5ee844f3",
   "metadata": {},
   "outputs": [],
   "source": [
    "random_search_tuner.search(pre_stroke, y_train, epochs=10,\n",
    "                           validation_data=(pre_stroke_val, y_val))"
   ]
  },
  {
   "cell_type": "code",
   "execution_count": 27,
   "id": "356a138d-a729-49c6-9cf5-3fef35f0a3da",
   "metadata": {
    "scrolled": true
   },
   "outputs": [],
   "source": [
    "top3_models = random_search_tuner.get_best_models(num_models=3)\n",
    "best_model = top3_models[0]"
   ]
  },
  {
   "cell_type": "code",
   "execution_count": 28,
   "id": "f0d2afe4-7a85-45af-ac1d-3e9a7f924a19",
   "metadata": {},
   "outputs": [
    {
     "data": {
      "text/plain": [
       "{'n_hidden': 7,\n",
       " 'n_neurons': 124,\n",
       " 'learning_rate': 0.0005509513888645584,\n",
       " 'optimizer': 'adam'}"
      ]
     },
     "execution_count": 28,
     "metadata": {},
     "output_type": "execute_result"
    }
   ],
   "source": [
    "top3_params = random_search_tuner.get_best_hyperparameters(num_trials=3)\n",
    "top3_params[0].values\n"
   ]
  },
  {
   "cell_type": "code",
   "execution_count": 29,
   "id": "3848d346-d027-44c7-8cb8-221d2397f31e",
   "metadata": {},
   "outputs": [
    {
     "data": {
      "text/plain": [
       "{'n_hidden': 7,\n",
       " 'n_neurons': 51,\n",
       " 'learning_rate': 0.0003491260272208854,\n",
       " 'optimizer': 'adam'}"
      ]
     },
     "execution_count": 29,
     "metadata": {},
     "output_type": "execute_result"
    }
   ],
   "source": [
    "top3_params[1].values\n"
   ]
  },
  {
   "cell_type": "code",
   "execution_count": 30,
   "id": "bd02172d-e384-46dc-9de6-5d3124152f52",
   "metadata": {},
   "outputs": [
    {
     "data": {
      "text/plain": [
       "{'n_hidden': 4,\n",
       " 'n_neurons': 74,\n",
       " 'learning_rate': 0.00905127409782462,\n",
       " 'optimizer': 'adam'}"
      ]
     },
     "execution_count": 30,
     "metadata": {},
     "output_type": "execute_result"
    }
   ],
   "source": [
    "top3_params[2].values"
   ]
  },
  {
   "cell_type": "markdown",
   "id": "6ae02589-ba4f-4224-a4b9-8dee92704907",
   "metadata": {},
   "source": [
    "#### evaluation using validation error and trainng error"
   ]
  },
  {
   "cell_type": "code",
   "execution_count": 31,
   "id": "17949c51-a4e0-4326-b06a-0292c973142e",
   "metadata": {},
   "outputs": [
    {
     "name": "stdout",
     "output_type": "stream",
     "text": [
      "32/32 [==============================] - 0s 954us/step - loss: 0.0444 - accuracy: 0.9863\n",
      "Validation Error (Loss): 0.044445618987083435\n",
      "Validation Accuracy: 0.9863013625144958\n",
      "96/96 [==============================] - 0s 831us/step - loss: 0.0135 - accuracy: 0.9951\n",
      "Training Error (Loss): 0.013535801321268082\n",
      "Training Accuracy: 0.9951076507568359\n"
     ]
    }
   ],
   "source": [
    "val_loss, val_accuracy = best_model.evaluate(pre_stroke_val, y_val)\n",
    "print(\"Validation Error (Loss):\", val_loss)\n",
    "print(\"Validation Accuracy:\", val_accuracy)\n",
    "\n",
    "# Optionally evaluate on training data\n",
    "train_loss, train_accuracy = best_model.evaluate(pre_stroke, y_train)\n",
    "print(\"Training Error (Loss):\", train_loss)\n",
    "print(\"Training Accuracy:\", train_accuracy)"
   ]
  },
  {
   "cell_type": "code",
   "execution_count": 32,
   "id": "e5d6bf01-a540-4fa3-a4c8-103787b56e6a",
   "metadata": {},
   "outputs": [
    {
     "name": "stdout",
     "output_type": "stream",
     "text": [
      "Epoch 1/20\n",
      "96/96 [==============================] - 2s 3ms/step - loss: 0.0229 - accuracy: 0.9905 - val_loss: 0.0406 - val_accuracy: 0.9853\n",
      "Epoch 2/20\n",
      "96/96 [==============================] - 0s 2ms/step - loss: 0.0191 - accuracy: 0.9948 - val_loss: 0.0536 - val_accuracy: 0.9804\n",
      "Epoch 3/20\n",
      "96/96 [==============================] - 0s 2ms/step - loss: 0.0139 - accuracy: 0.9945 - val_loss: 0.0555 - val_accuracy: 0.9814\n",
      "Epoch 4/20\n",
      "96/96 [==============================] - 0s 2ms/step - loss: 0.0157 - accuracy: 0.9935 - val_loss: 0.0475 - val_accuracy: 0.9853\n",
      "Epoch 5/20\n",
      "96/96 [==============================] - 0s 3ms/step - loss: 0.0186 - accuracy: 0.9912 - val_loss: 0.0485 - val_accuracy: 0.9775\n",
      "Epoch 6/20\n",
      "96/96 [==============================] - 0s 2ms/step - loss: 0.0117 - accuracy: 0.9958 - val_loss: 0.0581 - val_accuracy: 0.9834\n",
      "Epoch 7/20\n",
      "96/96 [==============================] - 0s 2ms/step - loss: 0.0040 - accuracy: 0.9987 - val_loss: 0.0681 - val_accuracy: 0.9843\n",
      "Epoch 8/20\n",
      "96/96 [==============================] - 0s 2ms/step - loss: 0.0066 - accuracy: 0.9977 - val_loss: 0.0565 - val_accuracy: 0.9853\n",
      "Epoch 9/20\n",
      "96/96 [==============================] - 0s 2ms/step - loss: 0.0075 - accuracy: 0.9984 - val_loss: 0.0538 - val_accuracy: 0.9824\n",
      "Epoch 10/20\n",
      "96/96 [==============================] - 0s 2ms/step - loss: 0.0125 - accuracy: 0.9954 - val_loss: 0.0614 - val_accuracy: 0.9824\n",
      "Epoch 11/20\n",
      "96/96 [==============================] - 0s 2ms/step - loss: 0.0129 - accuracy: 0.9951 - val_loss: 0.0449 - val_accuracy: 0.9873\n",
      "Epoch 12/20\n",
      "96/96 [==============================] - 0s 2ms/step - loss: 0.0051 - accuracy: 0.9980 - val_loss: 0.0473 - val_accuracy: 0.9853\n",
      "Epoch 13/20\n",
      "96/96 [==============================] - 0s 2ms/step - loss: 0.0112 - accuracy: 0.9954 - val_loss: 0.0914 - val_accuracy: 0.9785\n",
      "Epoch 14/20\n",
      "96/96 [==============================] - 0s 2ms/step - loss: 0.0141 - accuracy: 0.9945 - val_loss: 0.0477 - val_accuracy: 0.9843\n",
      "Epoch 15/20\n",
      "96/96 [==============================] - 0s 2ms/step - loss: 0.0039 - accuracy: 0.9984 - val_loss: 0.0597 - val_accuracy: 0.9873\n",
      "Epoch 16/20\n",
      "96/96 [==============================] - 0s 2ms/step - loss: 0.0128 - accuracy: 0.9958 - val_loss: 0.0476 - val_accuracy: 0.9853\n",
      "Epoch 17/20\n",
      "96/96 [==============================] - 0s 2ms/step - loss: 0.0058 - accuracy: 0.9987 - val_loss: 0.0560 - val_accuracy: 0.9834\n",
      "Epoch 18/20\n",
      "96/96 [==============================] - 0s 2ms/step - loss: 0.0103 - accuracy: 0.9967 - val_loss: 0.0507 - val_accuracy: 0.9834\n",
      "Epoch 19/20\n",
      "96/96 [==============================] - 0s 2ms/step - loss: 0.0072 - accuracy: 0.9974 - val_loss: 0.0806 - val_accuracy: 0.9804\n",
      "Epoch 20/20\n",
      "96/96 [==============================] - 0s 2ms/step - loss: 0.0033 - accuracy: 0.9993 - val_loss: 0.0774 - val_accuracy: 0.9843\n"
     ]
    }
   ],
   "source": [
    "history = best_model.fit(pre_stroke, y_train, epochs=20,\n",
    "                    validation_data=(pre_stroke_val, y_val))"
   ]
  },
  {
   "cell_type": "code",
   "execution_count": 33,
   "id": "961da9e1-5a77-40e8-ad43-c1159b604862",
   "metadata": {},
   "outputs": [
    {
     "data": {
      "image/png": "[encoded data removed]",
      "text/plain": [
       "<Figure size 800x500 with 1 Axes>"
      ]
     },
     "metadata": {},
     "output_type": "display_data"
    }
   ],
   "source": [
    "pd.DataFrame(history.history).plot(\n",
    "    figsize=(8, 5), xlim=[0, 20], ylim=[0, 1], grid=True, xlabel=\"Epoch\",\n",
    "    style=[\"r--\", \"r--.\", \"b-\", \"b-*\"])\n",
    "plt.legend(loc=\"lower left\")\n",
    "plt.show()"
   ]
  },
  {
   "cell_type": "markdown",
   "id": "1081358b-b097-4fc7-a886-73a930c13436",
   "metadata": {},
   "source": [
    "#### According to the diagram, the there is no simbol of overfitting and the accuracy is good so i will try to acclerate the traning time of the model"
   ]
  },
  {
   "cell_type": "markdown",
   "id": "14b11f2b-02c5-44b6-a826-cb3c26e36871",
   "metadata": {},
   "source": [
    "# Using Fixed Architecture Model"
   ]
  },
  {
   "cell_type": "markdown",
   "id": "6336ac34-4b68-4893-947a-558360297def",
   "metadata": {},
   "source": [
    "#### according to the dynamic tuning, the layer 4 with neuron 74 will be good"
   ]
  },
  {
   "cell_type": "code",
   "execution_count": 34,
   "id": "7d5f9c05-38e4-4d0e-91b1-aad3b33f7281",
   "metadata": {},
   "outputs": [],
   "source": [
    "def build_model():\n",
    "    return tf.keras.Sequential([\n",
    "        tf.keras.layers.Dense(74, activation=\"relu\",\n",
    "                              kernel_initializer=\"he_normal\", input_shape=[18]),\n",
    "        tf.keras.layers.Dense(74, activation=\"relu\",\n",
    "                              kernel_initializer=\"he_normal\"),\n",
    "        tf.keras.layers.Dense(74, activation=\"relu\",\n",
    "                              kernel_initializer=\"he_normal\"),\n",
    "        tf.keras.layers.Dense(74, activation=\"relu\",\n",
    "                              kernel_initializer=\"he_normal\"),\n",
    "        tf.keras.layers.Dense(10, activation=\"softmax\")\n",
    "    ])"
   ]
  },
  {
   "cell_type": "code",
   "execution_count": 35,
   "id": "32f38f94-2981-4905-a14f-770396ec3711",
   "metadata": {},
   "outputs": [
    {
     "name": "stdout",
     "output_type": "stream",
     "text": [
      "Epoch 1/20\n",
      "96/96 [==============================] - 1s 3ms/step - loss: 0.2110 - accuracy: 0.9410 - val_loss: 0.1169 - val_accuracy: 0.9530\n",
      "Epoch 2/20\n",
      "96/96 [==============================] - 0s 2ms/step - loss: 0.0970 - accuracy: 0.9605 - val_loss: 0.0967 - val_accuracy: 0.9658\n",
      "Epoch 3/20\n",
      "96/96 [==============================] - 0s 2ms/step - loss: 0.0791 - accuracy: 0.9693 - val_loss: 0.0850 - val_accuracy: 0.9697\n",
      "Epoch 4/20\n",
      "96/96 [==============================] - 0s 2ms/step - loss: 0.0700 - accuracy: 0.9710 - val_loss: 0.0811 - val_accuracy: 0.9648\n",
      "Epoch 5/20\n",
      "96/96 [==============================] - 0s 2ms/step - loss: 0.0611 - accuracy: 0.9752 - val_loss: 0.0737 - val_accuracy: 0.9726\n",
      "Epoch 6/20\n",
      "96/96 [==============================] - 0s 2ms/step - loss: 0.0587 - accuracy: 0.9726 - val_loss: 0.0673 - val_accuracy: 0.9726\n",
      "Epoch 7/20\n",
      "96/96 [==============================] - 0s 2ms/step - loss: 0.0537 - accuracy: 0.9775 - val_loss: 0.0637 - val_accuracy: 0.9755\n",
      "Epoch 8/20\n",
      "96/96 [==============================] - 0s 2ms/step - loss: 0.0497 - accuracy: 0.9804 - val_loss: 0.0572 - val_accuracy: 0.9785\n",
      "Epoch 9/20\n",
      "96/96 [==============================] - 0s 2ms/step - loss: 0.0491 - accuracy: 0.9778 - val_loss: 0.0586 - val_accuracy: 0.9755\n",
      "Epoch 10/20\n",
      "96/96 [==============================] - 0s 2ms/step - loss: 0.0423 - accuracy: 0.9827 - val_loss: 0.0568 - val_accuracy: 0.9755\n",
      "Epoch 11/20\n",
      "96/96 [==============================] - 0s 2ms/step - loss: 0.0410 - accuracy: 0.9824 - val_loss: 0.0502 - val_accuracy: 0.9834\n",
      "Epoch 12/20\n",
      "96/96 [==============================] - 0s 2ms/step - loss: 0.0382 - accuracy: 0.9850 - val_loss: 0.0534 - val_accuracy: 0.9765\n",
      "Epoch 13/20\n",
      "96/96 [==============================] - 0s 2ms/step - loss: 0.0365 - accuracy: 0.9876 - val_loss: 0.0484 - val_accuracy: 0.9804\n",
      "Epoch 14/20\n",
      "96/96 [==============================] - 0s 2ms/step - loss: 0.0352 - accuracy: 0.9860 - val_loss: 0.0474 - val_accuracy: 0.9814\n",
      "Epoch 15/20\n",
      "96/96 [==============================] - 0s 2ms/step - loss: 0.0318 - accuracy: 0.9873 - val_loss: 0.0510 - val_accuracy: 0.9775\n",
      "Epoch 16/20\n",
      "96/96 [==============================] - 0s 2ms/step - loss: 0.0335 - accuracy: 0.9886 - val_loss: 0.0453 - val_accuracy: 0.9834\n",
      "Epoch 17/20\n",
      "96/96 [==============================] - 0s 2ms/step - loss: 0.0314 - accuracy: 0.9879 - val_loss: 0.0455 - val_accuracy: 0.9814\n",
      "Epoch 18/20\n",
      "96/96 [==============================] - 0s 2ms/step - loss: 0.0294 - accuracy: 0.9889 - val_loss: 0.0403 - val_accuracy: 0.9824\n",
      "Epoch 19/20\n",
      "96/96 [==============================] - 0s 2ms/step - loss: 0.0285 - accuracy: 0.9883 - val_loss: 0.0531 - val_accuracy: 0.9746\n",
      "Epoch 20/20\n",
      "96/96 [==============================] - 0s 2ms/step - loss: 0.0260 - accuracy: 0.9902 - val_loss: 0.0397 - val_accuracy: 0.9824\n"
     ]
    }
   ],
   "source": [
    "model = build_model() \n",
    "\n",
    "optimizer = tf.keras.optimizers.SGD(learning_rate=0.02)\n",
    "model.compile(loss=\"sparse_categorical_crossentropy\", optimizer=optimizer,\n",
    "              metrics=[\"accuracy\"])\n",
    "history = model.fit(pre_stroke, y_train, epochs=20,\n",
    "                    validation_data=(pre_stroke_val, y_val))"
   ]
  },
  {
   "cell_type": "code",
   "execution_count": 36,
   "id": "30d03c30-f913-4ea7-b422-6f08bed180c0",
   "metadata": {},
   "outputs": [
    {
     "data": {
      "image/png": "[encoded data removed]",
      "text/plain": [
       "<Figure size 800x500 with 1 Axes>"
      ]
     },
     "metadata": {},
     "output_type": "display_data"
    }
   ],
   "source": [
    "pd.DataFrame(history.history).plot(\n",
    "    figsize=(8, 5), xlim=[0, 20], ylim=[0, 1], grid=True, xlabel=\"Epoch\",\n",
    "    style=[\"r--\", \"r--.\", \"b-\", \"b-*\"])\n",
    "plt.legend(loc=\"lower left\")\n",
    "plt.show()"
   ]
  },
  {
   "cell_type": "code",
   "execution_count": 37,
   "id": "1394fcf3-2e09-4881-b3f6-1ad97678072f",
   "metadata": {},
   "outputs": [],
   "source": [
    "import tensorflow as tf\n",
    "from sklearn.metrics import confusion_matrix, classification_report\n",
    "import numpy as np"
   ]
  },
  {
   "cell_type": "code",
   "execution_count": 38,
   "id": "ca4fd992-a4af-4077-a86d-03da85903548",
   "metadata": {},
   "outputs": [
    {
     "name": "stdout",
     "output_type": "stream",
     "text": [
      "32/32 [==============================] - 0s 808us/step\n"
     ]
    }
   ],
   "source": [
    "y_pred = model.predict(pre_stroke_val)\n",
    "y_pred_classes = np.argmax(y_pred, axis=1)"
   ]
  },
  {
   "cell_type": "code",
   "execution_count": 39,
   "id": "dfebff4b-8f4c-43e2-8183-0240b3c65451",
   "metadata": {},
   "outputs": [
    {
     "name": "stdout",
     "output_type": "stream",
     "text": [
      "Confusion Matrix:\n",
      "[[963   9]\n",
      " [  9  41]]\n"
     ]
    }
   ],
   "source": [
    "cm = confusion_matrix(y_val, y_pred_classes)\n",
    "print(\"Confusion Matrix:\")\n",
    "print(cm)"
   ]
  },
  {
   "cell_type": "code",
   "execution_count": 40,
   "id": "f5ee61aa-fe2e-4118-9779-d5459fe88a4e",
   "metadata": {},
   "outputs": [
    {
     "data": {
      "image/png": "[encoded data removed]",
      "text/plain": [
       "<Figure size 640x480 with 2 Axes>"
      ]
     },
     "metadata": {},
     "output_type": "display_data"
    }
   ],
   "source": [
    "from sklearn.metrics import confusion_matrix, ConfusionMatrixDisplay\n",
    "disp = ConfusionMatrixDisplay(confusion_matrix=cm)\n",
    "disp.plot()\n",
    "plt.show()"
   ]
  },
  {
   "cell_type": "code",
   "execution_count": 41,
   "id": "e395421a-4937-4bc5-aa9e-b2a95a18eb9a",
   "metadata": {},
   "outputs": [
    {
     "data": {
      "text/plain": [
       "0.82"
      ]
     },
     "execution_count": 41,
     "metadata": {},
     "output_type": "execute_result"
    }
   ],
   "source": [
    "from sklearn.metrics import precision_score, recall_score, f1_score\n",
    "\n",
    "recall_score(y_val, y_pred_classes)"
   ]
  },
  {
   "cell_type": "markdown",
   "id": "9223229f-bb23-4665-94c4-92c97d6bd19b",
   "metadata": {},
   "source": [
    "#### Did not see any symbol of overfitting but we can accelerate the process using Adam"
   ]
  },
  {
   "cell_type": "markdown",
   "id": "7c7dd3e0-b155-413e-8832-cb48a28ca896",
   "metadata": {},
   "source": [
    "##### using Adam"
   ]
  },
  {
   "cell_type": "code",
   "execution_count": 42,
   "id": "f2e4f394-cca4-43cf-ab9d-7133c85b5d7b",
   "metadata": {},
   "outputs": [],
   "source": [
    "optimizer = tf.keras.optimizers.Adam(learning_rate=0.001, beta_1=0.9, beta_2=0.999)"
   ]
  },
  {
   "cell_type": "code",
   "execution_count": 43,
   "id": "f2ed86da-da54-4271-8064-4baa17fd3561",
   "metadata": {},
   "outputs": [],
   "source": [
    "model = build_model() \n",
    "model.compile(loss=\"sparse_categorical_crossentropy\", optimizer=optimizer,\n",
    "                metrics=[\"accuracy\"])"
   ]
  },
  {
   "cell_type": "code",
   "execution_count": 44,
   "id": "c4ad1398-ca90-40b9-9f93-bf19bcdc1e13",
   "metadata": {},
   "outputs": [
    {
     "name": "stdout",
     "output_type": "stream",
     "text": [
      "Epoch 1/20\n",
      "96/96 [==============================] - 1s 3ms/step - loss: 0.3425 - accuracy: 0.9211 - val_loss: 0.1001 - val_accuracy: 0.9618\n",
      "Epoch 2/20\n",
      "96/96 [==============================] - 0s 2ms/step - loss: 0.0824 - accuracy: 0.9654 - val_loss: 0.0967 - val_accuracy: 0.9501\n",
      "Epoch 3/20\n",
      "96/96 [==============================] - 0s 2ms/step - loss: 0.0643 - accuracy: 0.9697 - val_loss: 0.0638 - val_accuracy: 0.9706\n",
      "Epoch 4/20\n",
      "96/96 [==============================] - 0s 2ms/step - loss: 0.0540 - accuracy: 0.9752 - val_loss: 0.0715 - val_accuracy: 0.9638\n",
      "Epoch 5/20\n",
      "96/96 [==============================] - 0s 2ms/step - loss: 0.0379 - accuracy: 0.9879 - val_loss: 0.0634 - val_accuracy: 0.9746\n",
      "Epoch 6/20\n",
      "96/96 [==============================] - 0s 2ms/step - loss: 0.0338 - accuracy: 0.9886 - val_loss: 0.0575 - val_accuracy: 0.9775\n",
      "Epoch 7/20\n",
      "96/96 [==============================] - 0s 2ms/step - loss: 0.0318 - accuracy: 0.9879 - val_loss: 0.0685 - val_accuracy: 0.9658\n",
      "Epoch 8/20\n",
      "96/96 [==============================] - 0s 2ms/step - loss: 0.0283 - accuracy: 0.9873 - val_loss: 0.0602 - val_accuracy: 0.9765\n",
      "Epoch 9/20\n",
      "96/96 [==============================] - 0s 2ms/step - loss: 0.0211 - accuracy: 0.9922 - val_loss: 0.0558 - val_accuracy: 0.9795\n",
      "Epoch 10/20\n",
      "96/96 [==============================] - 0s 2ms/step - loss: 0.0158 - accuracy: 0.9941 - val_loss: 0.0531 - val_accuracy: 0.9785\n",
      "Epoch 11/20\n",
      "96/96 [==============================] - 0s 2ms/step - loss: 0.0182 - accuracy: 0.9948 - val_loss: 0.0456 - val_accuracy: 0.9804\n",
      "Epoch 12/20\n",
      "96/96 [==============================] - 0s 3ms/step - loss: 0.0115 - accuracy: 0.9971 - val_loss: 0.0580 - val_accuracy: 0.9775\n",
      "Epoch 13/20\n",
      "96/96 [==============================] - 0s 2ms/step - loss: 0.0181 - accuracy: 0.9925 - val_loss: 0.0677 - val_accuracy: 0.9785\n",
      "Epoch 14/20\n",
      "96/96 [==============================] - 0s 2ms/step - loss: 0.0092 - accuracy: 0.9964 - val_loss: 0.0671 - val_accuracy: 0.9795\n",
      "Epoch 15/20\n",
      "96/96 [==============================] - 0s 2ms/step - loss: 0.0068 - accuracy: 0.9980 - val_loss: 0.0459 - val_accuracy: 0.9834\n",
      "Epoch 16/20\n",
      "96/96 [==============================] - 0s 2ms/step - loss: 0.0151 - accuracy: 0.9945 - val_loss: 0.1226 - val_accuracy: 0.9785\n",
      "Epoch 17/20\n",
      "96/96 [==============================] - 0s 2ms/step - loss: 0.0153 - accuracy: 0.9932 - val_loss: 0.0613 - val_accuracy: 0.9853\n",
      "Epoch 18/20\n",
      "96/96 [==============================] - 0s 2ms/step - loss: 0.0068 - accuracy: 0.9984 - val_loss: 0.0487 - val_accuracy: 0.9814\n",
      "Epoch 19/20\n",
      "96/96 [==============================] - 0s 2ms/step - loss: 0.0032 - accuracy: 0.9997 - val_loss: 0.0573 - val_accuracy: 0.9834\n",
      "Epoch 20/20\n",
      "96/96 [==============================] - 0s 2ms/step - loss: 0.0036 - accuracy: 0.9987 - val_loss: 0.0691 - val_accuracy: 0.9814\n"
     ]
    },
    {
     "data": {
      "image/png": "[encoded data removed]",
      "text/plain": [
       "<Figure size 800x500 with 1 Axes>"
      ]
     },
     "metadata": {},
     "output_type": "display_data"
    }
   ],
   "source": [
    "Adam = model.fit(pre_stroke, y_train, epochs=20,\n",
    "                                           validation_data=(pre_stroke_val, y_val))\n",
    "\n",
    "pd.DataFrame(Adam.history).plot(\n",
    "    figsize=(8, 5), xlim=[0, 20], ylim=[0, 1], grid=True, xlabel=\"Epoch\",\n",
    "    style=[\"r--\", \"r--.\", \"b-\", \"b-*\"])\n",
    "plt.legend(loc=\"lower left\")\n",
    "plt.show()"
   ]
  },
  {
   "cell_type": "markdown",
   "id": "1828b43e-17ab-484a-b5b1-d68f5e440ba8",
   "metadata": {},
   "source": [
    "#### prevent large weight uisng regularisation"
   ]
  },
  {
   "cell_type": "code",
   "execution_count": 45,
   "id": "4be4c9d8-09ce-4da8-a33f-288a5933b90f",
   "metadata": {},
   "outputs": [
    {
     "name": "stdout",
     "output_type": "stream",
     "text": [
      "Epoch 1/20\n",
      "96/96 [==============================] - 2s 4ms/step - loss: 6.2936 - accuracy: 0.9168 - val_loss: 4.5770 - val_accuracy: 0.9560\n",
      "Epoch 2/20\n",
      "96/96 [==============================] - 0s 2ms/step - loss: 3.5177 - accuracy: 0.9648 - val_loss: 2.6465 - val_accuracy: 0.9648\n",
      "Epoch 3/20\n",
      "96/96 [==============================] - 0s 2ms/step - loss: 2.0833 - accuracy: 0.9706 - val_loss: 1.6296 - val_accuracy: 0.9687\n",
      "Epoch 4/20\n",
      "96/96 [==============================] - 0s 2ms/step - loss: 1.3129 - accuracy: 0.9785 - val_loss: 1.0635 - val_accuracy: 0.9755\n",
      "Epoch 5/20\n",
      "96/96 [==============================] - 0s 2ms/step - loss: 0.8925 - accuracy: 0.9759 - val_loss: 0.7473 - val_accuracy: 0.9765\n",
      "Epoch 6/20\n",
      "96/96 [==============================] - 0s 2ms/step - loss: 0.6431 - accuracy: 0.9791 - val_loss: 0.5596 - val_accuracy: 0.9843\n",
      "Epoch 7/20\n",
      "96/96 [==============================] - 0s 2ms/step - loss: 0.4974 - accuracy: 0.9791 - val_loss: 0.4471 - val_accuracy: 0.9892\n",
      "Epoch 8/20\n",
      "96/96 [==============================] - 0s 2ms/step - loss: 0.4045 - accuracy: 0.9811 - val_loss: 0.3698 - val_accuracy: 0.9863\n",
      "Epoch 9/20\n",
      "96/96 [==============================] - 0s 2ms/step - loss: 0.3447 - accuracy: 0.9808 - val_loss: 0.3209 - val_accuracy: 0.9795\n",
      "Epoch 10/20\n",
      "96/96 [==============================] - 0s 2ms/step - loss: 0.3049 - accuracy: 0.9788 - val_loss: 0.2919 - val_accuracy: 0.9697\n",
      "Epoch 11/20\n",
      "96/96 [==============================] - 0s 2ms/step - loss: 0.2740 - accuracy: 0.9811 - val_loss: 0.2627 - val_accuracy: 0.9814\n",
      "Epoch 12/20\n",
      "96/96 [==============================] - 0s 2ms/step - loss: 0.2551 - accuracy: 0.9781 - val_loss: 0.2522 - val_accuracy: 0.9853\n",
      "Epoch 13/20\n",
      "96/96 [==============================] - 0s 2ms/step - loss: 0.2393 - accuracy: 0.9817 - val_loss: 0.2552 - val_accuracy: 0.9716\n",
      "Epoch 14/20\n",
      "96/96 [==============================] - 0s 2ms/step - loss: 0.2312 - accuracy: 0.9795 - val_loss: 0.2231 - val_accuracy: 0.9873\n",
      "Epoch 15/20\n",
      "96/96 [==============================] - 0s 2ms/step - loss: 0.2190 - accuracy: 0.9843 - val_loss: 0.2189 - val_accuracy: 0.9873\n",
      "Epoch 16/20\n",
      "96/96 [==============================] - 0s 2ms/step - loss: 0.2107 - accuracy: 0.9830 - val_loss: 0.2163 - val_accuracy: 0.9863\n",
      "Epoch 17/20\n",
      "96/96 [==============================] - 0s 2ms/step - loss: 0.2108 - accuracy: 0.9765 - val_loss: 0.2065 - val_accuracy: 0.9853\n",
      "Epoch 18/20\n",
      "96/96 [==============================] - 0s 2ms/step - loss: 0.2031 - accuracy: 0.9817 - val_loss: 0.1976 - val_accuracy: 0.9814\n",
      "Epoch 19/20\n",
      "96/96 [==============================] - 0s 2ms/step - loss: 0.1976 - accuracy: 0.9775 - val_loss: 0.1971 - val_accuracy: 0.9902\n",
      "Epoch 20/20\n",
      "96/96 [==============================] - 0s 2ms/step - loss: 0.1923 - accuracy: 0.9827 - val_loss: 0.1980 - val_accuracy: 0.9853\n"
     ]
    }
   ],
   "source": [
    "from functools import partial\n",
    "\n",
    "RegularizedDense = partial(tf.keras.layers.Dense,\n",
    "                           activation=\"relu\",\n",
    "                           kernel_initializer=\"he_normal\",\n",
    "                           kernel_regularizer=tf.keras.regularizers.l2(0.01))\n",
    "\n",
    "model_reg = tf.keras.Sequential([\n",
    "    RegularizedDense(74, input_shape=[18]),\n",
    "    RegularizedDense(74),\n",
    "    RegularizedDense(74),\n",
    "    RegularizedDense(74),\n",
    "    RegularizedDense(74),\n",
    "    RegularizedDense(10, activation=\"softmax\")\n",
    "])\n",
    "optimizer = tf.keras.optimizers.Adam(learning_rate=0.001, beta_1=0.9, beta_2=0.999)\n",
    "model_reg.compile(loss=\"sparse_categorical_crossentropy\", optimizer=optimizer,\n",
    "                metrics=[\"accuracy\"])\n",
    "\n",
    "history_reg = model_reg.fit(pre_stroke, y_train, epochs=20,\n",
    "                    validation_data=(pre_stroke_val, y_val))"
   ]
  },
  {
   "cell_type": "code",
   "execution_count": 46,
   "id": "1abda5a2-0e00-4451-b897-338691be6b37",
   "metadata": {},
   "outputs": [
    {
     "data": {
      "image/png": "[encoded data removed]",
      "text/plain": [
       "<Figure size 800x500 with 1 Axes>"
      ]
     },
     "metadata": {},
     "output_type": "display_data"
    }
   ],
   "source": [
    "pd.DataFrame(history_reg.history).plot(\n",
    "    figsize=(8, 5), xlim=[0, 20], ylim=[0, 1], grid=True, xlabel=\"Epoch\",\n",
    "    style=[\"r--\", \"r--.\", \"b-\", \"b-*\"])\n",
    "plt.legend(loc=\"lower left\")\n",
    "plt.show()"
   ]
  }
 ],
 "metadata": {
  "kernelspec": {
   "display_name": "Python 3 (ipykernel)",
   "language": "python",
   "name": "python3"
  },
  "language_info": {
   "codemirror_mode": {
    "name": "ipython",
    "version": 3
   },
   "file_extension": ".py",
   "mimetype": "text/x-python",
   "name": "python",
   "nbconvert_exporter": "python",
   "pygments_lexer": "ipython3",
   "version": "3.11.8"
  }
 },
 "nbformat": 4,
 "nbformat_minor": 5
}
